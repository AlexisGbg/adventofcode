{
 "cells": [
  {
   "cell_type": "code",
   "execution_count": 1,
   "id": "82c0653d",
   "metadata": {},
   "outputs": [],
   "source": [
    "import pandas as pd\n",
    "from pathlib import Path"
   ]
  },
  {
   "cell_type": "markdown",
   "id": "65080a65",
   "metadata": {},
   "source": [
    "# PART 1"
   ]
  },
  {
   "cell_type": "code",
   "execution_count": 18,
   "id": "ea5fc071",
   "metadata": {},
   "outputs": [
    {
     "name": "stdout",
     "output_type": "stream",
     "text": [
      "2147104\n"
     ]
    }
   ],
   "source": [
    "# LOAD DATA\n",
    "data = pd.read_csv('adventofcode-2.txt', sep=' ', header=None)\n",
    "data.columns = ['move', 'value']\n",
    "\n",
    "# MAIN\n",
    "horizon = 0\n",
    "depth = 0\n",
    "for _, row in data.iterrows():\n",
    "    if row[0] == 'forward':\n",
    "        horizon += row[1]\n",
    "    elif row[0] == 'down':\n",
    "        depth += row[1]\n",
    "    elif row[0] == 'up':\n",
    "        depth -= row[1]\n",
    "    else:\n",
    "        raise RuntimeError('command not found')\n",
    "print(horizon * depth)"
   ]
  },
  {
   "cell_type": "markdown",
   "id": "7bc8a867",
   "metadata": {},
   "source": [
    "# PART 2"
   ]
  },
  {
   "cell_type": "code",
   "execution_count": 17,
   "id": "51a50586",
   "metadata": {},
   "outputs": [
    {
     "name": "stdout",
     "output_type": "stream",
     "text": [
      "2044620088\n"
     ]
    }
   ],
   "source": [
    "# MAIN\n",
    "horizon = 0\n",
    "depth = 0\n",
    "aim = 0\n",
    "for _, row in data.iterrows():\n",
    "    if row[0] == 'forward':\n",
    "        horizon += row[1]\n",
    "        depth += row[1] * aim\n",
    "    elif row[0] == 'down':\n",
    "        aim += row[1]\n",
    "    elif row[0] == 'up':\n",
    "        aim -= row[1]\n",
    "    else:\n",
    "        raise RuntimeError('command not found')\n",
    "print(horizon * depth)"
   ]
  }
 ],
 "metadata": {
  "kernelspec": {
   "display_name": "Python 3 (ipykernel)",
   "language": "python",
   "name": "python3"
  },
  "language_info": {
   "codemirror_mode": {
    "name": "ipython",
    "version": 3
   },
   "file_extension": ".py",
   "mimetype": "text/x-python",
   "name": "python",
   "nbconvert_exporter": "python",
   "pygments_lexer": "ipython3",
   "version": "3.8.10"
  }
 },
 "nbformat": 4,
 "nbformat_minor": 5
}
